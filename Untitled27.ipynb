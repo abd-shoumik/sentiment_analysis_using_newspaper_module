{
 "cells": [
  {
   "cell_type": "code",
   "execution_count": 1,
   "metadata": {},
   "outputs": [],
   "source": [
    "from textblob import TextBlob\n",
    "import nltk\n",
    "from newspaper import Article"
   ]
  },
  {
   "cell_type": "code",
   "execution_count": 8,
   "metadata": {},
   "outputs": [],
   "source": [
    "url='https://timesofindia.indiatimes.com/india/india-will-work-out-its-own-model-of-theatre-commands-cds-rawat/articleshow/73062932.cms'\n",
    "article=Article(url)"
   ]
  },
  {
   "cell_type": "code",
   "execution_count": 9,
   "metadata": {},
   "outputs": [
    {
     "name": "stderr",
     "output_type": "stream",
     "text": [
      "[nltk_data] Downloading package punkt to\n",
      "[nltk_data]     C:\\Users\\KIIT\\AppData\\Roaming\\nltk_data...\n",
      "[nltk_data]   Package punkt is already up-to-date!\n"
     ]
    }
   ],
   "source": [
    "article.download()\n",
    "article.parse()\n",
    "nltk.download('punkt')\n",
    "article.nlp()"
   ]
  },
  {
   "cell_type": "code",
   "execution_count": 10,
   "metadata": {},
   "outputs": [
    {
     "name": "stdout",
     "output_type": "stream",
     "text": [
      "Chief of Defense Staff (CDS) Bipin RawatNEW DELHI: India will work out its own mechanisms for theatre commands, says the chief of defence staff (CDS) General Bipin Rawat , in the backdrop of the urgent need to build an integrated land-air-sea war-fighting machinery for a greater combat punch despite the ongoing fund crunch for military modernisation.“There are methods of doing ‘theaterisation’.\n",
      "We will jointly work out mechanisms…I think it will work,” said Gen Rawat, after taking the tri-service guard of honour at South Block on Wednesday.\n",
      "There was even a proposal to establish theatre commands in the shape of one or two (one each for west and east of Nepal ) for the “northern borders” with China, a western command for Pakistan , a counter-insurgency operations command and one southern or two peninsular commands for the maritime borders.\n",
      "A strategic air command, in turn, could be handled by the IAF.But the IAF had strongly opposed the move, stressing it would be operationally unwise to divide the country’s “limited air assets” among different theatre commands.\n",
      "We must ensure the 1+1+1 combine of the three services adds up to 5 or 7, and not 3.\n"
     ]
    }
   ],
   "source": [
    "text=article.summary\n",
    "print(text)"
   ]
  },
  {
   "cell_type": "code",
   "execution_count": 5,
   "metadata": {},
   "outputs": [
    {
     "name": "stdout",
     "output_type": "stream",
     "text": [
      "0.0\n",
      "the text is neutral\n"
     ]
    }
   ],
   "source": [
    "obj=TextBlob(text)\n",
    "\n",
    "sentiment=obj.sentiment.polarity\n",
    "print(sentiment)\n",
    "\n",
    "if sentiment==0:\n",
    "    print('the text is neutral')\n",
    "elif sentiment>0:\n",
    "    print('The text is positive')\n",
    "else:\n",
    "    print('The text is negative')\n"
   ]
  },
  {
   "cell_type": "code",
   "execution_count": 11,
   "metadata": {},
   "outputs": [
    {
     "name": "stdout",
     "output_type": "stream",
     "text": [
      "Article's Title:\n",
      "India will work out its own model of theatre commands: CDS Rawat\n",
      "n\n",
      "Article's Text:\n",
      "Chief of Defense Staff (CDS) Bipin Rawat\n",
      "\n",
      "NEW DELHI: India will work out its own mechanisms for theatre commands, says the chief of defence staff (CDS) General Bipin Rawat , in the backdrop of the urgent need to build an integrated land-air-sea war-fighting machinery for a greater combat punch despite the ongoing fund crunch for military modernisation.“There are methods of doing ‘theaterisation’. We don’t have to copy from western methods or others. We can have our own systems. We will jointly work out mechanisms…I think it will work,” said Gen Rawat, after taking the tri-service guard of honour at South Block on Wednesday. Though Gen Rawat did not spell out the details, sources said he has been tasked by the government to initiate and spearhead doctrinal and transformational changes as well as prepare a roadmap for the first new theatre command to be set up in four to five years.This, of course, will take some doing because the Army, Navy and IAF zealously guard their turfs. India’s only theatre or geographical command in the strategically-located Andaman and Nicobar archipelago, which places all the assets and manpower of the three services under one operational commander, has largely failed to realise its potential due to inter-service rivalry, general politico-bureaucratic apathy and funding problems since it was set up in 2001.The PMO and defence establishment have discussed the need to have integrated commands over the last few years. There was even a proposal to establish theatre commands in the shape of one or two (one each for west and east of Nepal ) for the “northern borders” with China, a western command for Pakistan , a counter-insurgency operations command and one southern or two peninsular commands for the maritime borders. A strategic air command, in turn, could be handled by the IAF.But the IAF had strongly opposed the move, stressing it would be operationally unwise to divide the country’s “limited air assets” among different theatre commands. The force, after all, has just 30 fighter squadrons when at least 42 are needed for requisite deterrence against any collusive threat from Pakistan and China.Similar is the case with other critical platforms like AWACS (airborne warning and control systems) and mid-air refuelling aircraft. “The entire country should be treated as one theatre. We have shown through ‘Gagan Shakti’ and other exercises that the IAF can swiftly switch its assets from the western to eastern front, and vice-versa, if the need arises,” said a senior IAF officer.But the dominant opinion in the defence establishment is that the time has come for India — which has as many as 17 single-service commands — to move towards integrated commands to save resources and prepare for wars of the future.Gen Rawat, on his part, said, “The task is cut out for the CDS to integrate the three services and enhance their capabilities through teamwork. We must ensure the 1+1+1 combine of the three services adds up to 5 or 7, and not 3. Synergy is needed. The whole should be more than the sum of the parts.” He added he would strive to achieve jointness in operations, planning, procurements, logistics, transport, training and the like within the three-year deadline set by the government.\n",
      "n\n",
      "Article's Summary:\n",
      "Chief of Defense Staff (CDS) Bipin RawatNEW DELHI: India will work out its own mechanisms for theatre commands, says the chief of defence staff (CDS) General Bipin Rawat , in the backdrop of the urgent need to build an integrated land-air-sea war-fighting machinery for a greater combat punch despite the ongoing fund crunch for military modernisation.“There are methods of doing ‘theaterisation’.\n",
      "We will jointly work out mechanisms…I think it will work,” said Gen Rawat, after taking the tri-service guard of honour at South Block on Wednesday.\n",
      "There was even a proposal to establish theatre commands in the shape of one or two (one each for west and east of Nepal ) for the “northern borders” with China, a western command for Pakistan , a counter-insurgency operations command and one southern or two peninsular commands for the maritime borders.\n",
      "A strategic air command, in turn, could be handled by the IAF.But the IAF had strongly opposed the move, stressing it would be operationally unwise to divide the country’s “limited air assets” among different theatre commands.\n",
      "We must ensure the 1+1+1 combine of the three services adds up to 5 or 7, and not 3.\n",
      "n\n",
      "Article's Keywords:\n",
      "['commands', 'set', 'india', 'model', 'western', 'work', 'iaf', 'need', 'cds', 'rawat', 'theatre', 'command', 'services']\n"
     ]
    }
   ],
   "source": [
    "#To extract title \n",
    "print(\"Article's Title:\") \n",
    "print(article.title) \n",
    "print(\"n\") \n",
    "  \n",
    "#To extract text \n",
    "print(\"Article's Text:\") \n",
    "print(article.text) \n",
    "print(\"n\") \n",
    "  \n",
    "#To extract summary \n",
    "print(\"Article's Summary:\") \n",
    "print(article.summary) \n",
    "print(\"n\") \n",
    "  \n",
    "#To extract keywords \n",
    "print(\"Article's Keywords:\") \n",
    "print(article.keywords) "
   ]
  },
  {
   "cell_type": "code",
   "execution_count": null,
   "metadata": {},
   "outputs": [],
   "source": []
  }
 ],
 "metadata": {
  "kernelspec": {
   "display_name": "Python 3",
   "language": "python",
   "name": "python3"
  },
  "language_info": {
   "codemirror_mode": {
    "name": "ipython",
    "version": 3
   },
   "file_extension": ".py",
   "mimetype": "text/x-python",
   "name": "python",
   "nbconvert_exporter": "python",
   "pygments_lexer": "ipython3",
   "version": "3.7.4"
  }
 },
 "nbformat": 4,
 "nbformat_minor": 2
}
